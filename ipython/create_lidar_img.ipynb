{
 "cells": [
  {
   "cell_type": "markdown",
   "id": "e57f277f-9531-454a-841e-5546fc0cb843",
   "metadata": {},
   "source": [
    "# This is the script to create the LiDAR projection image and saved as PNG file for own waymo dataset. It is the same procedure of how we process and LiDAR data in CLFT and CLFCN. For benchmarking experiment of PanFormer, it only works with image-like input, thus we create the LiDAR image as standalone file. The pixel value in LiDAR image corresponding to point's 3D coordinates."
   ]
  },
  {
   "cell_type": "code",
   "execution_count": 23,
   "id": "269da198-67c1-4af4-8dd2-c53ec9541793",
   "metadata": {},
   "outputs": [],
   "source": [
    "import os\n",
    "import cv2\n",
    "import pickle\n",
    "import json, yaml\n",
    "import numpy as np\n",
    "from PIL import Image"
   ]
  },
  {
   "cell_type": "code",
   "execution_count": 24,
   "id": "5b98092b-4dac-4532-bc3f-e10c2b7a8edb",
   "metadata": {},
   "outputs": [],
   "source": [
    "datapath = '/home/autolab/Data/waymo'"
   ]
  },
  {
   "cell_type": "code",
   "execution_count": 25,
   "id": "129ce038-c9d8-4337-ab8d-f706b0cc58da",
   "metadata": {},
   "outputs": [],
   "source": [
    "# These functions copied from /utils/lidar_process.py\n",
    "def open_lidar(lidar_path, w_ratio, h_ratio, lidar_mean, lidar_std):\n",
    "    mean_lidar = np.array(lidar_mean)\n",
    "    std_lidar = np.array(lidar_std)\n",
    "\n",
    "    file = open(lidar_path, 'rb')\n",
    "    lidar_data = pickle.load(file)\n",
    "    file.close()\n",
    "\n",
    "    points3d = lidar_data['3d_points']\n",
    "    camera_coord = lidar_data['camera_coordinates']\n",
    "\n",
    "    # select camera front\n",
    "    mask = camera_coord[:, 0] == 1\n",
    "    points3d = points3d[mask, :]\n",
    "    camera_coord = camera_coord[mask, 1:3]\n",
    "\n",
    "    x_lid = (points3d[:, 1] - mean_lidar[0])/std_lidar[0]\n",
    "    y_lid = (points3d[:, 2] - mean_lidar[1])/std_lidar[1]\n",
    "    z_lid = (points3d[:, 0] - mean_lidar[2])/std_lidar[2]\n",
    "\n",
    "    camera_coord[:, 1] = (camera_coord[:, 1]/h_ratio).astype(int)\n",
    "    camera_coord[:, 0] = (camera_coord[:, 0]/w_ratio).astype(int)\n",
    "\n",
    "    points_set = np.stack((x_lid, y_lid, z_lid), axis=1).astype(np.float32)\n",
    "\n",
    "    return points_set, camera_coord\n",
    "\n",
    "def get_unresized_lid_img_val(h, w, points_set, camera_coord):\n",
    "    X = np.zeros((h, w))\n",
    "    Y = np.zeros((h, w))\n",
    "    Z = np.zeros((h, w))\n",
    "\n",
    "    rows = np.floor(camera_coord[:, 1])\n",
    "    cols = np.floor(camera_coord[:, 0])\n",
    "\n",
    "    X[(rows.astype(int), cols.astype(int))] = points_set[:, 0]\n",
    "    Y[(rows.astype(int), cols.astype(int))] = points_set[:, 1]\n",
    "    Z[(rows.astype(int), cols.astype(int))] = points_set[:, 2]\n",
    "\n",
    "    # X = TF.to_pil_image(X.astype(np.float32))  # Here no need to convert to tensor becuase we use numpy in this script.\n",
    "    # Y = TF.to_pil_image(Y.astype(np.float32))\n",
    "    # Z = TF.to_pil_image(Z.astype(np.float32))\n",
    "\n",
    "    return X.astype(np.float32), Y.astype(np.float32), Z.astype(np.float32)\n",
    "    #return X, Y, Z\n",
    "\n",
    "def lidar_dilation(X, Y, Z):\n",
    "    kernel = np.ones((3, 3), np.uint8)\n",
    "    X_dilation = cv2.dilate(np.array(X).astype(np.float32), kernel,\n",
    "                            iterations=1)\n",
    "    Y_dilation = cv2.dilate(np.array(Y).astype(np.float32), kernel,\n",
    "                            iterations=1)\n",
    "    Z_dilation = cv2.dilate(np.array(Z).astype(np.float32), kernel,\n",
    "                            iterations=1)\n",
    "\n",
    "    # X_dilation = TF.to_pil_image(X_dilation.astype(np.float32))\n",
    "    # Y_dilation = TF.to_pil_image(Y_dilation.astype(np.float32))\n",
    "    # Z_dilation = TF.to_pil_image(Z_dilation.astype(np.float32))\n",
    "    return X_dilation.astype(np.float32), Y_dilation.astype(np.float32), Z_dilation.astype(np.float32)\n",
    "    #return X, Y, Z"
   ]
  },
  {
   "cell_type": "code",
   "execution_count": 26,
   "id": "67e02908-5370-4498-9273-5dae1b302088",
   "metadata": {},
   "outputs": [],
   "source": [
    "train_img_list = np.genfromtxt('/home/autolab/Data/waymo/splits_clft/train_all.txt', dtype=str)\n",
    "valid_img_list = np.genfromtxt('/home/autolab/Data/waymo/splits_clft/early_stop_valid.txt', dtype=str)"
   ]
  },
  {
   "cell_type": "code",
   "execution_count": 27,
   "id": "972929e3-5ee6-4ad1-8850-474f4788a738",
   "metadata": {},
   "outputs": [
    {
     "data": {
      "text/plain": [
       "array(['labeled/night/rain/camera/segment-10988649507921773627_363_000_383_000_0000000010.png',\n",
       "       'labeled/day/not_rain/camera/segment-14739149465358076158_4740_000_4760_000_with_camera_labels_0000000156.png',\n",
       "       'labeled/day/not_rain/camera/segment-3711598698808133144_2060_000_2080_000_with_camera_labels_0000000082.png',\n",
       "       ...,\n",
       "       'labeled/day/not_rain/camera/segment-12681651284932598380_3585_280_3605_280_with_camera_labels_0000000062.png',\n",
       "       'labeled/day/not_rain/camera/segment-5458962501360340931_3140_000_3160_000_with_camera_labels_0000000198.png',\n",
       "       'labeled/day/rain/camera/segment-15539619898625779290_760_000_780_000_with_camera_labels_0000000124.png'],\n",
       "      dtype='<U110')"
      ]
     },
     "execution_count": 27,
     "metadata": {},
     "output_type": "execute_result"
    }
   ],
   "source": [
    "valid_img_list"
   ]
  },
  {
   "cell_type": "code",
   "execution_count": null,
   "id": "70da431b-4372-491b-9cb0-11dd382727f0",
   "metadata": {},
   "outputs": [],
   "source": [
    "import torch\n",
    "import torchvision.transforms.functional as TF\n",
    "waymo_lidar_mean = [-0.17263354, 0.85321806, 24.5527253] # These are from config.json, specific for own waymo dataset.\n",
    "waymo_lidar_std = [7.34546552, 1.17227659, 15.83745082]\n",
    "for imId, paths in enumerate(valid_img_list):\n",
    "    rgb_path = paths\n",
    "    lidar_path = os.path.join(datapath + '/' + paths.replace('/camera', '/lidar').replace('.png', '.pkl'))\n",
    "    \n",
    "    points_set, camera_coord = open_lidar(lidar_path, w_ratio=4, h_ratio=4, lidar_mean=waymo_lidar_mean, lidar_std=waymo_lidar_std)\n",
    "    X, Y, Z = get_unresized_lid_img_val(320, 480, points_set, camera_coord)\n",
    "#X, Y, Z = lidar_dilation(X, Y, Z)\n",
    "\n",
    "    # X = TF.to_tensor(np.array(X))\n",
    "    # Y = TF.to_tensor(np.array(Y))\n",
    "    # Z = TF.to_tensor(np.array(Z))\n",
    "    #lid_images = torch.cat((X, Y, Z), 0)\n",
    "    lidar_img = np.dstack((X, Y, Z))\n",
    "    \n",
    "\n",
    "    lidar_img_name = rgb_path.split('/')[-1].split('.')[0]\n",
    "    #imageio.imwrite(os.path.join('/home/autolab/Data/valid_lidar_img/' + lidar_img_name + '.exr'), lidar_img)\n",
    "    #print(lidar_img)\n",
    "    cv2.imwrite(os.path.join('/home/autolab/Data/valid_lidar_img/' + lidar_img_name + '.png'), lidar_img)\n",
    "\n",
    "for imId, paths in enumerate(train_img_list):\n",
    "    rgb_path = paths\n",
    "    lidar_path = os.path.join(datapath + '/' + paths.replace('/camera', '/lidar').replace('.png', '.pkl'))\n",
    "    \n",
    "    points_set, camera_coord = open_lidar(lidar_path, w_ratio=4, h_ratio=4, lidar_mean=waymo_lidar_mean, lidar_std=waymo_lidar_std)\n",
    "    X, Y, Z = get_unresized_lid_img_val(320, 480, points_set, camera_coord)\n",
    "    X, Y, Z = lidar_dilation(X, Y, Z)\n",
    "    lidar_img = np.dstack((X, Y, Z))\n",
    "\n",
    "    lidar_img_name = rgb_path.split('/')[-1].split('.')[0]\n",
    "    \n",
    "    cv2.imwrite(os.path.join('/home/autolab/Data/train_lidar_img/' + lidar_img_name + '.png'), lidar_img)"
   ]
  },
  {
   "cell_type": "code",
   "execution_count": null,
   "id": "b710cf56-185b-49ce-9797-9890d5858dc0",
   "metadata": {},
   "outputs": [],
   "source": [
    "test_day_fair_img_list = np.genfromtxt('/home/autolab/Data/waymo/splits_clft/test_day_fair.txt', dtype=str)\n",
    "test_day_rain_img_list = np.genfromtxt('/home/autolab/Data/waymo/splits_clft/test_day_rain.txt', dtype=str)\n",
    "test_night_fair_img_list = np.genfromtxt('/home/autolab/Data/waymo/splits_clft/test_night_fair.txt', dtype=str)\n",
    "test_night_rain_img_list = np.genfromtxt('/home/autolab/Data/waymo/splits_clft/test_night_rain.txt', dtype=str)\n",
    "#test_night_rain_img_list"
   ]
  },
  {
   "cell_type": "code",
   "execution_count": 17,
   "id": "f6fcc5d1-c047-4ded-ad7c-62a87504a1c4",
   "metadata": {},
   "outputs": [
    {
     "ename": "NameError",
     "evalue": "name 'get_unresized_lid_img_val' is not defined",
     "output_type": "error",
     "traceback": [
      "\u001b[0;31m---------------------------------------------------------------------------\u001b[0m",
      "\u001b[0;31mNameError\u001b[0m                                 Traceback (most recent call last)",
      "Cell \u001b[0;32mIn[17], line 6\u001b[0m\n\u001b[1;32m      3\u001b[0m lidar_path \u001b[38;5;241m=\u001b[39m os\u001b[38;5;241m.\u001b[39mpath\u001b[38;5;241m.\u001b[39mjoin(datapath \u001b[38;5;241m+\u001b[39m \u001b[38;5;124m'\u001b[39m\u001b[38;5;124m/\u001b[39m\u001b[38;5;124m'\u001b[39m \u001b[38;5;241m+\u001b[39m paths\u001b[38;5;241m.\u001b[39mreplace(\u001b[38;5;124m'\u001b[39m\u001b[38;5;124m/camera\u001b[39m\u001b[38;5;124m'\u001b[39m, \u001b[38;5;124m'\u001b[39m\u001b[38;5;124m/lidar\u001b[39m\u001b[38;5;124m'\u001b[39m)\u001b[38;5;241m.\u001b[39mreplace(\u001b[38;5;124m'\u001b[39m\u001b[38;5;124m.png\u001b[39m\u001b[38;5;124m'\u001b[39m, \u001b[38;5;124m'\u001b[39m\u001b[38;5;124m.pkl\u001b[39m\u001b[38;5;124m'\u001b[39m))\n\u001b[1;32m      5\u001b[0m points_set, camera_coord \u001b[38;5;241m=\u001b[39m open_lidar(lidar_path, w_ratio\u001b[38;5;241m=\u001b[39m\u001b[38;5;241m4\u001b[39m, h_ratio\u001b[38;5;241m=\u001b[39m\u001b[38;5;241m4\u001b[39m, lidar_mean\u001b[38;5;241m=\u001b[39mwaymo_lidar_mean, lidar_std\u001b[38;5;241m=\u001b[39mwaymo_lidar_std)\n\u001b[0;32m----> 6\u001b[0m X, Y, Z \u001b[38;5;241m=\u001b[39m \u001b[43mget_unresized_lid_img_val\u001b[49m(\u001b[38;5;241m320\u001b[39m, \u001b[38;5;241m480\u001b[39m, points_set, camera_coord)\n\u001b[1;32m      7\u001b[0m X, Y, Z \u001b[38;5;241m=\u001b[39m lidar_dilation(X, Y, Z)\n\u001b[1;32m      8\u001b[0m lidar_img \u001b[38;5;241m=\u001b[39m np\u001b[38;5;241m.\u001b[39mdstack((X, Y, Z))\n",
      "\u001b[0;31mNameError\u001b[0m: name 'get_unresized_lid_img_val' is not defined"
     ]
    }
   ],
   "source": [
    "for imId, paths in enumerate(test_day_fair_img_list):\n",
    "    rgb_path = paths\n",
    "    lidar_path = os.path.join(datapath + '/' + paths.replace('/camera', '/lidar').replace('.png', '.pkl'))\n",
    "    \n",
    "    points_set, camera_coord = open_lidar(lidar_path, w_ratio=4, h_ratio=4, lidar_mean=waymo_lidar_mean, lidar_std=waymo_lidar_std)\n",
    "    X, Y, Z = get_unresized_lid_img_val(320, 480, points_set, camera_coord)\n",
    "    X, Y, Z = lidar_dilation(X, Y, Z)\n",
    "    lidar_img = np.dstack((X, Y, Z))\n",
    "\n",
    "    lidar_img_name = rgb_path.split('/')[-1].split('.')[0]\n",
    "    \n",
    "    cv2.imwrite(os.path.join('/home/autolab/Data/test_day_fair_lidar_img/' + lidar_img_name + '.png'), lidar_img)\n",
    "\n",
    "for imId, paths in enumerate(test_day_rain_img_list):\n",
    "    rgb_path = paths\n",
    "    lidar_path = os.path.join(datapath + '/' + paths.replace('/camera', '/lidar').replace('.png', '.pkl'))\n",
    "    \n",
    "    points_set, camera_coord = open_lidar(lidar_path, w_ratio=4, h_ratio=4, lidar_mean=waymo_lidar_mean, lidar_std=waymo_lidar_std)\n",
    "    X, Y, Z = get_unresized_lid_img_val(320, 480, points_set, camera_coord)\n",
    "    X, Y, Z = lidar_dilation(X, Y, Z)\n",
    "    lidar_img = np.dstack((X, Y, Z))\n",
    "\n",
    "    lidar_img_name = rgb_path.split('/')[-1].split('.')[0]\n",
    "    \n",
    "    cv2.imwrite(os.path.join('/home/autolab/Data/test_day_rain_lidar_img/' + lidar_img_name + '.png'), lidar_img)\n",
    "\n",
    "for imId, paths in enumerate(test_night_fair_img_list):\n",
    "    rgb_path = paths\n",
    "    lidar_path = os.path.join(datapath + '/' + paths.replace('/camera', '/lidar').replace('.png', '.pkl'))\n",
    "    \n",
    "    points_set, camera_coord = open_lidar(lidar_path, w_ratio=4, h_ratio=4, lidar_mean=waymo_lidar_mean, lidar_std=waymo_lidar_std)\n",
    "    X, Y, Z = get_unresized_lid_img_val(320, 480, points_set, camera_coord)\n",
    "    X, Y, Z = lidar_dilation(X, Y, Z)\n",
    "    lidar_img = np.dstack((X, Y, Z))\n",
    "\n",
    "    lidar_img_name = rgb_path.split('/')[-1].split('.')[0]\n",
    "    \n",
    "    cv2.imwrite(os.path.join('/home/autolab/Data/test_night_fair_lidar_img/' + lidar_img_name + '.png'), lidar_img)\n",
    "\n",
    "for imId, paths in enumerate(test_night_rain_img_list):\n",
    "    rgb_path = paths\n",
    "    lidar_path = os.path.join(datapath + '/' + paths.replace('/camera', '/lidar').replace('.png', '.pkl'))\n",
    "    \n",
    "    points_set, camera_coord = open_lidar(lidar_path, w_ratio=4, h_ratio=4, lidar_mean=waymo_lidar_mean, lidar_std=waymo_lidar_std)\n",
    "    X, Y, Z = get_unresized_lid_img_val(320, 480, points_set, camera_coord)\n",
    "    X, Y, Z = lidar_dilation(X, Y, Z)\n",
    "    lidar_img = np.dstack((X, Y, Z))\n",
    "\n",
    "    lidar_img_name = rgb_path.split('/')[-1].split('.')[0]\n",
    "    \n",
    "    cv2.imwrite(os.path.join('/home/autolab/Data/test_night_rain_lidar_img/' + lidar_img_name + '.png'), lidar_img)"
   ]
  },
  {
   "cell_type": "code",
   "execution_count": null,
   "id": "3f490e25-ff3c-4ccd-bbcd-9149085cdbeb",
   "metadata": {},
   "outputs": [],
   "source": []
  }
 ],
 "metadata": {
  "kernelspec": {
   "display_name": "Python 3 (ipykernel)",
   "language": "python",
   "name": "python3"
  },
  "language_info": {
   "codemirror_mode": {
    "name": "ipython",
    "version": 3
   },
   "file_extension": ".py",
   "mimetype": "text/x-python",
   "name": "python",
   "nbconvert_exporter": "python",
   "pygments_lexer": "ipython3",
   "version": "3.9.20"
  }
 },
 "nbformat": 4,
 "nbformat_minor": 5
}
