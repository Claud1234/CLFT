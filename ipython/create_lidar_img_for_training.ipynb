{
 "cells": [
  {
   "cell_type": "markdown",
   "id": "e57f277f-9531-454a-841e-5546fc0cb843",
   "metadata": {},
   "source": [
    "# This is the script to create the LiDAR projection image and saved as PNG file for own waymo dataset. It is the same procedure of how we process and LiDAR data in CLFT and CLFCN. For benchmarking experiment of PanFormer, it only works with image-like input, thus we create the LiDAR image as standalone file. The pixel value in LiDAR image corresponding to point's 3D coordinates."
   ]
  },
  {
   "cell_type": "code",
   "execution_count": null,
   "id": "269da198-67c1-4af4-8dd2-c53ec9541793",
   "metadata": {},
   "outputs": [],
   "source": []
  }
 ],
 "metadata": {
  "kernelspec": {
   "display_name": "Python 3 (ipykernel)",
   "language": "python",
   "name": "python3"
  },
  "language_info": {
   "codemirror_mode": {
    "name": "ipython",
    "version": 3
   },
   "file_extension": ".py",
   "mimetype": "text/x-python",
   "name": "python",
   "nbconvert_exporter": "python",
   "pygments_lexer": "ipython3",
   "version": "3.12.2"
  }
 },
 "nbformat": 4,
 "nbformat_minor": 5
}
