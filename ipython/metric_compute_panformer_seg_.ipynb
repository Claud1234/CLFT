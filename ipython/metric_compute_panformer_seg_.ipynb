{
 "cells": [
  {
   "cell_type": "markdown",
   "id": "c3b766bc-f970-4228-a41d-c25588f7f7a1",
   "metadata": {},
   "source": [
    "# This is the script to implement the unified evaluation metrics toward the PanFormer segmentation results of our own waymo dataset. The seg results from Panformer are the RGB images with objects masked in different color. Please refer to /utils/metrics.py for the description of our metrics."
   ]
  },
  {
   "cell_type": "code",
   "execution_count": 1,
   "id": "8f2b1ef4-1550-42c7-8d68-0c00db56ed77",
   "metadata": {},
   "outputs": [],
   "source": [
    "import os\n",
    "import cv2\n",
    "import json, yaml\n",
    "import torch\n",
    "import numpy as np\n",
    "from glob import glob\n",
    "from PIL import Image\n",
    "import matplotlib.pyplot as plt"
   ]
  },
  {
   "cell_type": "code",
   "execution_count": 2,
   "id": "e4bcd833-0cd9-400b-bbc9-cc91519cfdf8",
   "metadata": {},
   "outputs": [],
   "source": [
    "seg_day_rain_path = '/home/autolab/Data/seg_day_rain/'\n",
    "gt_day_rain_path = '/home/autolab/workspace/Panoptic-SegFormer/datasets/waymo_panformer/labeled/day/rain/annotation_relabel_rgb/'"
   ]
  },
  {
   "cell_type": "code",
   "execution_count": 3,
   "id": "78868daa-f4d8-47fa-81e6-d54f8c451842",
   "metadata": {},
   "outputs": [],
   "source": [
    "seg_day_fair_path = '/home/autolab/Data/seg_day_fair/'\n",
    "gt_day_fair_path = '/home/autolab/workspace/Panoptic-SegFormer/datasets/waymo_panformer/labeled/day/not_rain/annotation_relabel_rgb/'"
   ]
  },
  {
   "cell_type": "code",
   "execution_count": 4,
   "id": "70f192c2-5b00-4651-8183-95e5a4b18965",
   "metadata": {},
   "outputs": [],
   "source": [
    "seg_night_rain_path = '/home/autolab/Data/seg_night_rain/'\n",
    "gt_night_rain_path = '/home/autolab/workspace/Panoptic-SegFormer/datasets/waymo_panformer/labeled/night/rain/annotation_relabel_rgb/'"
   ]
  },
  {
   "cell_type": "code",
   "execution_count": 5,
   "id": "a5f75830-7cc0-4277-955d-dd8471e8d428",
   "metadata": {},
   "outputs": [],
   "source": [
    "seg_night_fair_path = '/home/autolab/Data/seg_night_fair/'\n",
    "gt_night_fair_path = '/home/autolab/workspace/Panoptic-SegFormer/datasets/waymo_panformer/labeled/night/not_rain/annotation_relabel_rgb/'"
   ]
  },
  {
   "cell_type": "code",
   "execution_count": 6,
   "id": "70e57ac8-7275-4ef4-bd9b-f610d62d5306",
   "metadata": {},
   "outputs": [],
   "source": [
    "paths_seg_day_fair = glob(os.path.join(seg_day_fair_path + '*' + '.png'))\n",
    "paths_anno_day_fair = glob(os.path.join(gt_day_fair_path + '*' + '.png'))"
   ]
  },
  {
   "cell_type": "code",
   "execution_count": 7,
   "id": "e3cbe762-9d50-4528-b537-a2846a00e00a",
   "metadata": {},
   "outputs": [],
   "source": [
    "paths_seg_day_rain = glob(os.path.join(seg_day_rain_path + '*' + '.png'))\n",
    "paths_anno_day_rain = glob(os.path.join(gt_day_rain_path + '*' + '.png'))"
   ]
  },
  {
   "cell_type": "code",
   "execution_count": 8,
   "id": "54b55e3d-5e19-4b10-b594-7ed293286117",
   "metadata": {},
   "outputs": [],
   "source": [
    "paths_seg_night_fair = glob(os.path.join(seg_night_fair_path + '*' + '.png'))\n",
    "paths_anno_night_fair = glob(os.path.join(gt_night_fair_path + '*' + '.png'))"
   ]
  },
  {
   "cell_type": "code",
   "execution_count": 9,
   "id": "baa4db8a-b4d8-494a-9046-a8fb5f7fe723",
   "metadata": {},
   "outputs": [],
   "source": [
    "paths_seg_night_rain = glob(os.path.join(seg_night_rain_path + '*' + '.png'))\n",
    "paths_anno_night_rain = glob(os.path.join(gt_night_rain_path + '*' + '.png'))\n",
    "#print(paths_seg_night_rain)"
   ]
  },
  {
   "cell_type": "markdown",
   "id": "1626339a-2608-4bd3-925d-b5c71c3aa83f",
   "metadata": {},
   "source": [
    "## This is the example to compute the IoU for one single input image. "
   ]
  },
  {
   "cell_type": "markdown",
   "id": "38e38ad2-e552-437b-ae99-eb6fa6bae05e",
   "metadata": {},
   "source": [
    "### The Panformer is based on the COCO dataset. COCO dataset has a lot of classes and assign a rgb color to each class. Our own waymo dataset only contains four classes:  <span style=\"color:red;\">background (id:1), , vehicle (id:2), human (id:3), and ignore(id:4)> </span>. \n",
    "\n",
    "### For coco standard, the rgb color assigned to id 1 to 4 is like this:\n",
    "{\n",
    "    \"supercategory\": \"person\",\n",
    "    \"color\": [\n",
    "      220,\n",
    "      20,\n",
    "      60\n",
    "    ],\n",
    "    \"isthing\": 1,\n",
    "    <span style=\"color:red;\">\"id\": 1> </span>\n",
    "    \"name\": \"person\"\n",
    "  },\n",
    "  {\n",
    "    \"supercategory\": \"vehicle\",\n",
    "    \"color\": [\n",
    "      119,\n",
    "      11,\n",
    "      32\n",
    "    ],\n",
    "    \"isthing\": 1,\n",
    "    <span style=\"color:red;\">\"id\": 2> </span>\n",
    "    \"name\": \"bicycle\"\n",
    "  },\n",
    "  {\n",
    "    \"supercategory\": \"vehicle\",\n",
    "    \"color\": [\n",
    "      0,\n",
    "      0,\n",
    "      142\n",
    "    ],\n",
    "    \"isthing\": 1,\n",
    "    <span style=\"color:red;\">\"id\": 3> </span>\n",
    "    \"name\": \"car\"\n",
    "  },\n",
    "  {\n",
    "    \"supercategory\": \"vehicle\",\n",
    "    \"color\": [\n",
    "      0,\n",
    "      0,\n",
    "      230\n",
    "    ],\n",
    "    \"isthing\": 1,\n",
    "    <span style=\"color:red;\">\"id\": 4> </span>\n",
    "    \"name\": \"motorcycle\"\n",
    "  },|\n",
    "\n",
    "### Regardless the 'name' and 'supercategory' written above, PanFormer code based on 'id' to assign the color for seg visuzlized result.  So in our result it will be [119, 11, 32] for our vehicle class (id:2) and [0, 0, 142] for our human class (id:3).\n",
    "\n",
    "### For pillow convert('F'), <span style=\"color:red;\">it will convert [119, 11, 32] to 45 and [0, 0, 142] to 16 </span>. For simpilicity, we will use 45 and 16 directly in this notebook to calculate the metric results."
   ]
  },
  {
   "cell_type": "code",
   "execution_count": 56,
   "id": "b23e2d17-abe1-4155-921e-e06fe80af5ca",
   "metadata": {},
   "outputs": [
    {
     "data": {
      "text/plain": [
       "<matplotlib.image.AxesImage at 0x7fc41a252f60>"
      ]
     },
     "execution_count": 56,
     "metadata": {},
     "output_type": "execute_result"
    },
    {
     "data": {
      "image/png": "[encoded data removed]",
      "text/plain": [
       "<Figure size 640x480 with 1 Axes>"
      ]
     },
     "metadata": {},
     "output_type": "display_data"
    }
   ],
   "source": [
    "seg_example = Image.open(paths_seg_day_rain[44]).convert('F') \n",
    "seg = np.array(seg_example).astype(int)   # here the array only has 0, 45 and 16. \n",
    "plt.imshow(seg_example)"
   ]
  },
  {
   "cell_type": "code",
   "execution_count": 57,
   "id": "74fa7ab8-723a-4aec-ba0e-7f5cb2ad13d4",
   "metadata": {},
   "outputs": [
    {
     "name": "stdout",
     "output_type": "stream",
     "text": [
      "anno in array is like:\n",
      " [[3. 3. 3. ... 3. 3. 3.]\n",
      " [3. 3. 3. ... 3. 3. 3.]\n",
      " [3. 3. 3. ... 3. 3. 3.]\n",
      " ...\n",
      " [3. 3. 0. ... 3. 3. 3.]\n",
      " [3. 3. 3. ... 3. 3. 3.]\n",
      " [3. 3. 3. ... 3. 3. 3.]]\n"
     ]
    }
   ],
   "source": [
    "anno_example = Image.open(paths_anno_day_rain[44]).convert('F')\n",
    "anno =np.array(anno_example) # Here contains 0, 1, 2 and 3.\n",
    "print('anno in array is like:\\n', anno)"
   ]
  },
  {
   "cell_type": "code",
   "execution_count": 58,
   "id": "61aba54d-af82-4568-970f-202f2b1ee3ad",
   "metadata": {},
   "outputs": [],
   "source": [
    "seg[anno == 3] = 0\n",
    "seg[seg == 45] = 1\n",
    "seg[seg == 16] = 2"
   ]
  },
  {
   "cell_type": "code",
   "execution_count": 59,
   "id": "91a9b113-5b67-496e-b4e2-6075b3698fea",
   "metadata": {},
   "outputs": [],
   "source": [
    "overlap = seg*(seg==anno)"
   ]
  },
  {
   "cell_type": "markdown",
   "id": "9e7fbeed-8a62-484a-a724-b3c25f91d5fc",
   "metadata": {},
   "source": [
    "<span style=\"color:red;\">Numpy histogram use 'right-most' rule. Will be four bins here [0,1), [1,2), [2,3) and [3,4]. We only take second (1) and third (2) bar for vehcile and human class</span>"
   ]
  },
  {
   "cell_type": "code",
   "execution_count": 60,
   "id": "b7446c54-b5db-4e62-88e4-32c2596b93e3",
   "metadata": {},
   "outputs": [
    {
     "name": "stdout",
     "output_type": "stream",
     "text": [
      "area_overlap: [138123  14054   1423      0]\n",
      "overlap area for vehcile and human is 14054 and 1423\n"
     ]
    }
   ],
   "source": [
    "area_overlap, _ = np.histogram(overlap, bins=[0, 1, 2, 3, 4])\n",
    "print('area_overlap:', area_overlap)\n",
    "print(f'overlap area for vehcile and human is {area_overlap[1]} and {area_overlap[2]}')"
   ]
  },
  {
   "cell_type": "code",
   "execution_count": 61,
   "id": "5f756118-026c-4ef5-afa2-049717f478ab",
   "metadata": {},
   "outputs": [],
   "source": [
    "area_pred, _ = np.histogram(seg, bins=[0, 1, 2, 3, 4])\n",
    "area_anno, _ = np.histogram(anno, bins=[0, 1, 2, 3, 4])"
   ]
  },
  {
   "cell_type": "code",
   "execution_count": 62,
   "id": "cdd01fd0-6b70-400f-8c9d-874b15fbf06e",
   "metadata": {},
   "outputs": [
    {
     "name": "stdout",
     "output_type": "stream",
     "text": [
      "area_pres: [137818  14183   1599      0]\n",
      "prediction area for vehcile and human is 14183 and 1599\n"
     ]
    }
   ],
   "source": [
    "print('area_pres:', area_pred)\n",
    "print(f'prediction area for vehcile and human is {area_pred[1]} and {area_pred[2]}')"
   ]
  },
  {
   "cell_type": "code",
   "execution_count": 63,
   "id": "065ac5cf-fc78-487e-983f-6ffcbaf31f5c",
   "metadata": {},
   "outputs": [
    {
     "name": "stdout",
     "output_type": "stream",
     "text": [
      "area_anno: [38501 15033  1956 98110]\n",
      "annotation area for vehcile and human is 15033 and 1956\n"
     ]
    }
   ],
   "source": [
    "print('area_anno:', area_anno)\n",
    "print(f'annotation area for vehcile and human is {area_anno[1]} and {area_anno[2]}')"
   ]
  },
  {
   "cell_type": "code",
   "execution_count": 64,
   "id": "b34370a7-2be3-414d-950f-1709d8f3c622",
   "metadata": {},
   "outputs": [
    {
     "name": "stdout",
     "output_type": "stream",
     "text": [
      "area_union: [38196 15162  2132 98110]\n",
      "union area for vehcile and human is 15162 and 2132\n"
     ]
    }
   ],
   "source": [
    "area_union = area_pred + area_anno - area_overlap\n",
    "print('area_union:', area_union)\n",
    "print(f'union area for vehcile and human is {area_union[1]} and {area_union[2]}')"
   ]
  },
  {
   "cell_type": "code",
   "execution_count": 65,
   "id": "021abc64-066b-47b8-bf53-b66c8d26faca",
   "metadata": {},
   "outputs": [
    {
     "name": "stdout",
     "output_type": "stream",
     "text": [
      "IoU of vehicle and human is 0.9269225695818494 and 0.6674484052532833\n"
     ]
    }
   ],
   "source": [
    "print(f'IoU of vehicle and human is {area_overlap[1] / area_union[1]} and {area_overlap[2] / area_union[2]}')"
   ]
  },
  {
   "cell_type": "markdown",
   "id": "a2718140-166a-4290-823b-7a2913d854ef",
   "metadata": {},
   "source": [
    "## Here we will compute cumulative IoU, also precision and recall for all day_rain seg result."
   ]
  },
  {
   "cell_type": "code",
   "execution_count": 66,
   "id": "82fc207b-18c6-4920-bab9-2753efe1f83c",
   "metadata": {},
   "outputs": [],
   "source": [
    "def find_overlap(seg, anno): # seg and anno should be in array integer\n",
    "    seg[anno == 3] = 0\n",
    "    seg[seg == 45] = 1\n",
    "    seg[seg == 16] = 2\n",
    "\n",
    "    overlap = seg*(seg==anno)\n",
    "    \n",
    "    area_overlap, _ = np.histogram(overlap, bins=[0, 1, 2, 3, 4])\n",
    "    area_pred, _ = np.histogram(seg, bins=[0, 1, 2, 3, 4])\n",
    "    area_anno, _ = np.histogram(anno, bins=[0, 1, 2, 3, 4])\n",
    "    area_union = area_pred + area_anno - area_overlap\n",
    "\n",
    "\n",
    "    assert (area_overlap[1] <= area_anno[1]).all(), \"Intersection area should be smaller than Union area\"\n",
    "    assert (area_overlap[2] <= area_anno[2]).all(), \"Intersection area should be smaller than Union area\"\n",
    "\n",
    "    return area_overlap, area_pred, area_anno, area_union"
   ]
  },
  {
   "cell_type": "code",
   "execution_count": 68,
   "id": "057c224a-b0d9-497d-947e-903165a29af9",
   "metadata": {},
   "outputs": [
    {
     "name": "stdout",
     "output_type": "stream",
     "text": [
      "Test result for DAY-FAIR\n",
      "VEHICLE:CUM_IoU->0.8589, CUM_Precision->0.9486, CUM_Recall->0.9008 \n",
      "HUMAN: CUM_IoU->0.6102, CUM_Precision->0.8195, CUM_Recall->0.7050\n"
     ]
    }
   ],
   "source": [
    "overlap_cum, pred_cum, anno_cum, union_cum = 0, 0, 0, 0\n",
    "\n",
    "for idx in range(len(paths_seg_day_fair)):\n",
    "    seg_img = Image.open(paths_seg_day_fair[idx]).convert('F')\n",
    "    anno_img = Image.open(paths_anno_day_fair[idx]).convert('F')\n",
    "\n",
    "    seg_array = np.array(seg_img).astype(int) \n",
    "    anno_array = np.array(anno_img).astype(int) \n",
    "    overlap_idx, pred_idx, anno_idx, union_idx = find_overlap(seg_array, anno_array)\n",
    "    \n",
    "    overlap_cum += overlap_idx\n",
    "    pred_cum += pred_idx\n",
    "    anno_cum += anno_idx\n",
    "    union_cum += union_idx\n",
    "\n",
    "cum_IoU = overlap_cum[1:3] / union_cum[1:3]\n",
    "cum_precision = overlap_cum[1:3] / pred_cum[1:3]\n",
    "cum_recall = overlap_cum[1:3] / anno_cum[1:3]\n",
    "print(f'Test result for DAY-FAIR\\n'\n",
    "      f'VEHICLE:CUM_IoU->{cum_IoU[0]:.4f}, CUM_Precision->{cum_precision[0]:.4f}, CUM_Recall->{cum_recall[0]:.4f} \\n'\n",
    "      f'HUMAN: CUM_IoU->{cum_IoU[1]:.4f}, CUM_Precision->{cum_precision[1]:.4f}, CUM_Recall->{cum_recall[1]:.4f}')"
   ]
  },
  {
   "cell_type": "code",
   "execution_count": 67,
   "id": "5b5425d7-616f-47cb-a118-d20302b3337d",
   "metadata": {},
   "outputs": [
    {
     "name": "stdout",
     "output_type": "stream",
     "text": [
      "Test result for DAY-RAIN\n",
      "VEHICLE:CUM_IoU->0.8358, CUM_Precision->0.9562, CUM_Recall->0.8691 \n",
      "HUMAN: CUM_IoU->0.4970, CUM_Precision->0.8213, CUM_Recall->0.5572\n"
     ]
    }
   ],
   "source": [
    "overlap_cum, pred_cum, anno_cum, union_cum = 0, 0, 0, 0\n",
    "\n",
    "for idx in range(len(paths_seg_day_rain)):\n",
    "    seg_img = Image.open(paths_seg_day_rain[idx]).convert('F')\n",
    "    anno_img = Image.open(paths_anno_day_rain[idx]).convert('F')\n",
    "\n",
    "    seg_array = np.array(seg_img).astype(int) \n",
    "    anno_array = np.array(anno_img).astype(int) \n",
    "    overlap_idx, pred_idx, anno_idx, union_idx = find_overlap(seg_array, anno_array)\n",
    "    \n",
    "    overlap_cum += overlap_idx\n",
    "    pred_cum += pred_idx\n",
    "    anno_cum += anno_idx\n",
    "    union_cum += union_idx\n",
    "\n",
    "cum_IoU = overlap_cum[1:3] / union_cum[1:3]\n",
    "cum_precision = overlap_cum[1:3] / pred_cum[1:3]\n",
    "cum_recall = overlap_cum[1:3] / anno_cum[1:3]\n",
    "print(f'Test result for DAY-RAIN\\n'\n",
    "      f'VEHICLE:CUM_IoU->{cum_IoU[0]:.4f}, CUM_Precision->{cum_precision[0]:.4f}, CUM_Recall->{cum_recall[0]:.4f} \\n'\n",
    "      f'HUMAN: CUM_IoU->{cum_IoU[1]:.4f}, CUM_Precision->{cum_precision[1]:.4f}, CUM_Recall->{cum_recall[1]:.4f}')"
   ]
  },
  {
   "cell_type": "code",
   "execution_count": 69,
   "id": "7d5d2209-423c-4548-917a-a2516c5bc2b0",
   "metadata": {},
   "outputs": [
    {
     "name": "stdout",
     "output_type": "stream",
     "text": [
      "Test result for NIGHT-FAIR\n",
      "VEHICLE:CUM_IoU->0.8145, CUM_Precision->0.9362, CUM_Recall->0.8624 \n",
      "HUMAN: CUM_IoU->0.4467, CUM_Precision->0.7679, CUM_Recall->0.5164\n"
     ]
    }
   ],
   "source": [
    "overlap_cum, pred_cum, anno_cum, union_cum = 0, 0, 0, 0\n",
    "\n",
    "for idx in range(len(paths_seg_night_fair)):\n",
    "    seg_img = Image.open(paths_seg_night_fair[idx]).convert('F')\n",
    "    anno_img = Image.open(paths_anno_night_fair[idx]).convert('F')\n",
    "\n",
    "    seg_array = np.array(seg_img).astype(int) \n",
    "    anno_array = np.array(anno_img).astype(int) \n",
    "    overlap_idx, pred_idx, anno_idx, union_idx = find_overlap(seg_array, anno_array)\n",
    "    \n",
    "    overlap_cum += overlap_idx\n",
    "    pred_cum += pred_idx\n",
    "    anno_cum += anno_idx\n",
    "    union_cum += union_idx\n",
    "\n",
    "cum_IoU = overlap_cum[1:3] / union_cum[1:3]\n",
    "cum_precision = overlap_cum[1:3] / pred_cum[1:3]\n",
    "cum_recall = overlap_cum[1:3] / anno_cum[1:3]\n",
    "print(f'Test result for NIGHT-FAIR\\n'\n",
    "      f'VEHICLE:CUM_IoU->{cum_IoU[0]:.4f}, CUM_Precision->{cum_precision[0]:.4f}, CUM_Recall->{cum_recall[0]:.4f} \\n'\n",
    "      f'HUMAN: CUM_IoU->{cum_IoU[1]:.4f}, CUM_Precision->{cum_precision[1]:.4f}, CUM_Recall->{cum_recall[1]:.4f}')"
   ]
  },
  {
   "cell_type": "code",
   "execution_count": 70,
   "id": "2e3e0f43-58f1-4bc9-9279-ca2a43394f16",
   "metadata": {},
   "outputs": [
    {
     "name": "stdout",
     "output_type": "stream",
     "text": [
      "Test result for NIGHT-RAIN\n",
      "VEHICLE:CUM_IoU->0.7050, CUM_Precision->0.9380, CUM_Recall->0.7394 \n",
      "HUMAN: CUM_IoU->0.1468, CUM_Precision->0.7118, CUM_Recall->0.1561\n"
     ]
    }
   ],
   "source": [
    "overlap_cum, pred_cum, anno_cum, union_cum = 0, 0, 0, 0\n",
    "\n",
    "for idx in range(len(paths_seg_night_rain)):\n",
    "    seg_img = Image.open(paths_seg_night_rain[idx]).convert('F')\n",
    "    anno_img = Image.open(paths_anno_night_rain[idx]).convert('F')\n",
    "\n",
    "    seg_array = np.array(seg_img).astype(int) \n",
    "    anno_array = np.array(anno_img).astype(int) \n",
    "    overlap_idx, pred_idx, anno_idx, union_idx = find_overlap(seg_array, anno_array)\n",
    "    \n",
    "    overlap_cum += overlap_idx\n",
    "    pred_cum += pred_idx\n",
    "    anno_cum += anno_idx\n",
    "    union_cum += union_idx\n",
    "\n",
    "cum_IoU = overlap_cum[1:3] / union_cum[1:3]\n",
    "cum_precision = overlap_cum[1:3] / pred_cum[1:3]\n",
    "cum_recall = overlap_cum[1:3] / anno_cum[1:3]\n",
    "print(f'Test result for NIGHT-RAIN\\n'\n",
    "      f'VEHICLE:CUM_IoU->{cum_IoU[0]:.4f}, CUM_Precision->{cum_precision[0]:.4f}, CUM_Recall->{cum_recall[0]:.4f} \\n'\n",
    "      f'HUMAN: CUM_IoU->{cum_IoU[1]:.4f}, CUM_Precision->{cum_precision[1]:.4f}, CUM_Recall->{cum_recall[1]:.4f}')"
   ]
  },
  {
   "cell_type": "code",
   "execution_count": null,
   "id": "9a36e35d-ddac-4a35-b3fa-b165d0ba00fd",
   "metadata": {},
   "outputs": [],
   "source": []
  }
 ],
 "metadata": {
  "kernelspec": {
   "display_name": "Python 3 (ipykernel)",
   "language": "python",
   "name": "python3"
  },
  "language_info": {
   "codemirror_mode": {
    "name": "ipython",
    "version": 3
   },
   "file_extension": ".py",
   "mimetype": "text/x-python",
   "name": "python",
   "nbconvert_exporter": "python",
   "pygments_lexer": "ipython3",
   "version": "3.9.20"
  }
 },
 "nbformat": 4,
 "nbformat_minor": 5
}
